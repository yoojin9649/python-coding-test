{
 "cells": [
  {
   "cell_type": "code",
   "execution_count": 1,
   "metadata": {},
   "outputs": [],
   "source": [
    "import numpy as np\n",
    "import time"
   ]
  },
  {
   "cell_type": "markdown",
   "metadata": {},
   "source": [
    "- N이 1이 될 때까지\n",
    "- 1. N에서 1 빼기\n",
    "- 2. N을 K로 나누기 (N이 K로 나누어떨어질 때만)"
   ]
  },
  {
   "cell_type": "markdown",
   "metadata": {},
   "source": [
    "- 내 풀이"
   ]
  },
  {
   "cell_type": "code",
   "execution_count": 13,
   "metadata": {},
   "outputs": [
    {
     "name": "stdout",
     "output_type": "stream",
     "text": [
      "25 3\n"
     ]
    }
   ],
   "source": [
    "n, k = map(int, input().split())"
   ]
  },
  {
   "cell_type": "code",
   "execution_count": 17,
   "metadata": {},
   "outputs": [
    {
     "name": "stdout",
     "output_type": "stream",
     "text": [
      "25\n",
      "24\n",
      "8\n",
      "7\n",
      "6\n",
      "2\n",
      "1\n"
     ]
    }
   ],
   "source": [
    "count=0 # 연산 횟수\n",
    "\n",
    "while True:\n",
    "    print(n)\n",
    "    if n == 1:\n",
    "        break\n",
    "    elif (n%k == 0):\n",
    "        n = n//k\n",
    "        count+=1\n",
    "    else:\n",
    "        n -=1\n",
    "        count+=1"
   ]
  },
  {
   "cell_type": "code",
   "execution_count": 15,
   "metadata": {},
   "outputs": [
    {
     "name": "stdout",
     "output_type": "stream",
     "text": [
      "6\n"
     ]
    }
   ],
   "source": [
    "print(count)"
   ]
  },
  {
   "cell_type": "markdown",
   "metadata": {},
   "source": [
    "- 단순한 답안"
   ]
  },
  {
   "cell_type": "code",
   "execution_count": 20,
   "metadata": {},
   "outputs": [
    {
     "name": "stdout",
     "output_type": "stream",
     "text": [
      "25 3\n"
     ]
    }
   ],
   "source": [
    "n, k = map(int, input().split())"
   ]
  },
  {
   "cell_type": "code",
   "execution_count": 21,
   "metadata": {},
   "outputs": [
    {
     "name": "stdout",
     "output_type": "stream",
     "text": [
      "6\n"
     ]
    }
   ],
   "source": [
    "result = 0\n",
    "\n",
    "while n>=k :\n",
    "    while n%k != 0:\n",
    "        n -= 1\n",
    "        result +=1\n",
    "    n//=k\n",
    "    result+=1\n",
    "    \n",
    "while n>1:\n",
    "    n-=1\n",
    "    result+=1\n",
    "    \n",
    "print(result)"
   ]
  },
  {
   "cell_type": "markdown",
   "metadata": {},
   "source": [
    "- 답안 예시"
   ]
  },
  {
   "cell_type": "code",
   "execution_count": 28,
   "metadata": {},
   "outputs": [
    {
     "name": "stdout",
     "output_type": "stream",
     "text": [
      "27 7\n"
     ]
    }
   ],
   "source": [
    "n, k=map(int, input().split())"
   ]
  },
  {
   "cell_type": "code",
   "execution_count": 29,
   "metadata": {},
   "outputs": [
    {
     "name": "stdout",
     "output_type": "stream",
     "text": [
      "9\n"
     ]
    }
   ],
   "source": [
    "result = 0\n",
    "while True:\n",
    "    # n이 k로 나누어 떨어질때까지 빼는 부분(한번에 빼버림)\n",
    "    target = (n//k)*k\n",
    "    result += (n-target)\n",
    "    n = target\n",
    "    \n",
    "    if n<k:\n",
    "        break\n",
    "    # n을 k로 나누기\n",
    "    result +=1\n",
    "    n //= k\n",
    "\n",
    "result += (n-1)\n",
    "print(result)"
   ]
  },
  {
   "cell_type": "code",
   "execution_count": null,
   "metadata": {},
   "outputs": [],
   "source": []
  }
 ],
 "metadata": {
  "kernelspec": {
   "display_name": "Python 3",
   "language": "python",
   "name": "python3"
  },
  "language_info": {
   "codemirror_mode": {
    "name": "ipython",
    "version": 3
   },
   "file_extension": ".py",
   "mimetype": "text/x-python",
   "name": "python",
   "nbconvert_exporter": "python",
   "pygments_lexer": "ipython3",
   "version": "3.7.6"
  }
 },
 "nbformat": 4,
 "nbformat_minor": 4
}
